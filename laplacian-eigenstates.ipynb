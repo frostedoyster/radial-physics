{
 "cells": [
  {
   "cell_type": "code",
   "execution_count": 1,
   "metadata": {},
   "outputs": [],
   "source": [
    "import numpy as np\n",
    "import scipy as sp\n",
    "import matplotlib.pyplot as plt\n",
    "\n",
    "from scipy.special import spherical_jn as j_l\n",
    "from scipy.special import spherical_in as i_l\n",
    "from spherical_bessel_zeros import Jn_zeros\n",
    "from scipy.integrate import quadrature"
   ]
  },
  {
   "cell_type": "code",
   "execution_count": 2,
   "metadata": {},
   "outputs": [],
   "source": [
    "l_big = 26\n",
    "n_big = 26\n",
    "a = 6.0  # Radius of the sphere"
   ]
  },
  {
   "cell_type": "code",
   "execution_count": 3,
   "metadata": {},
   "outputs": [
    {
     "name": "stdout",
     "output_type": "stream",
     "text": [
      "6 13\n"
     ]
    }
   ],
   "source": [
    "z_ln = Jn_zeros(l_big, n_big)  # Spherical Bessel zeros\n",
    "z_nl = z_ln.T\n",
    "\n",
    "E_nl = z_nl**2\n",
    "E_max = E_nl[6-1, 0]\n",
    "n_max = np.where(E_nl[:, 0] <= E_max)[0][-1] + 1\n",
    "l_max = np.where(E_nl[0, :] <= E_max)[0][-1]\n",
    "print(n_max, l_max)"
   ]
  },
  {
   "cell_type": "code",
   "execution_count": 4,
   "metadata": {},
   "outputs": [],
   "source": [
    "def R_nl(n, l, r):\n",
    "    return j_l(l, z_nl[n, l]*r/a)\n",
    "\n",
    "def N_nl(n, l):\n",
    "    # Normalization factor for LE basis functions\n",
    "    def function_to_integrate_to_get_normalization_factor(x):\n",
    "        return j_l(l, x)**2 * x**2\n",
    "    integral, _ = sp.integrate.quadrature(function_to_integrate_to_get_normalization_factor, 0.0, z_nl[n, l])\n",
    "    return (1.0/z_nl[n, l]**3 * integral)**(-0.5)\n",
    "\n",
    "def get_LE_function_python(n, l, r):\n",
    "    R = np.zeros_like(r)\n",
    "    for i in range(r.shape[0]):\n",
    "        R[i] = R_nl(n, l, r[i])\n",
    "    return N_nl(n, l)*R*a**(-1.5)"
   ]
  },
  {
   "cell_type": "code",
   "execution_count": 5,
   "metadata": {},
   "outputs": [],
   "source": [
    "# Feed LE (delta) radial spline points to Rust calculator:\n",
    "\n",
    "n_spline_points = 101\n",
    "spline_x = np.linspace(0.0, a, n_spline_points)  # x values\n",
    "\n",
    "spline_f = []\n",
    "for l in range(l_max+1):\n",
    "    for n in range(n_max):\n",
    "        spline_f_single = get_LE_function_python(n, l, spline_x)\n",
    "        spline_f.append(spline_f_single)\n",
    "spline_f = np.array(spline_f).T\n",
    "spline_f = spline_f.reshape(n_spline_points, l_max+1, n_max)  # f(x) values"
   ]
  },
  {
   "cell_type": "code",
   "execution_count": 6,
   "metadata": {},
   "outputs": [],
   "source": [
    "def get_LE_function_derivative(n, l, r):\n",
    "    delta = 1e-6\n",
    "    all_derivatives_except_at_zero = (get_LE_function_python(n, l, r[1:]+delta) - get_LE_function_python(n, l, r[1:]-delta)) / (2.0*delta)\n",
    "    derivative_at_zero = (get_LE_function_python(n, l, np.array([delta/10.0])) - get_LE_function_python(n, l, np.array([0.0]))) / (delta/10.0)\n",
    "    return np.concatenate([derivative_at_zero, all_derivatives_except_at_zero])"
   ]
  },
  {
   "cell_type": "code",
   "execution_count": 7,
   "metadata": {},
   "outputs": [],
   "source": [
    "spline_df = []\n",
    "for l in range(l_max+1):\n",
    "    for n in range(n_max):\n",
    "        spline_df_single = get_LE_function_derivative(n, l, spline_x)\n",
    "        spline_df.append(spline_df_single)\n",
    "spline_df = np.array(spline_df).T\n",
    "spline_df = spline_df.reshape(n_spline_points, l_max+1, n_max)  # df/dx values"
   ]
  },
  {
   "cell_type": "code",
   "execution_count": 8,
   "metadata": {},
   "outputs": [],
   "source": [
    "with open(\"splines.txt\", \"w\") as file:\n",
    "    np.savetxt(file, spline_x.flatten(), newline=\" \")\n",
    "    file.write(\"\\n\")\n",
    "\n",
    "with open(\"splines.txt\", \"a\") as file:\n",
    "    np.savetxt(file, (1.0/(4.0*np.pi))*spline_f.flatten(), newline=\" \")\n",
    "    file.write(\"\\n\")\n",
    "    np.savetxt(file, (1.0/(4.0*np.pi))*spline_df.flatten(), newline=\" \")\n",
    "    file.write(\"\\n\")"
   ]
  },
  {
   "cell_type": "code",
   "execution_count": 9,
   "metadata": {},
   "outputs": [],
   "source": [
    "from rascaline import SphericalExpansion\n",
    "\n",
    "hypers_spherical_expansion = {\n",
    "        \"cutoff\": a,\n",
    "        \"max_radial\": int(n_max),\n",
    "        \"max_angular\": int(l_max),\n",
    "        \"center_atom_weight\": 0.0,\n",
    "        \"radial_basis\": {\"Tabulated\": {\"file\": \"splines.txt\"}},\n",
    "        \"atomic_gaussian_width\": 100.0,\n",
    "        \"cutoff_function\": {\"Step\": {}},\n",
    "    }\n",
    "\n",
    "calculator = SphericalExpansion(**hypers_spherical_expansion)"
   ]
  },
  {
   "cell_type": "code",
   "execution_count": 10,
   "metadata": {},
   "outputs": [
    {
     "name": "stdout",
     "output_type": "stream",
     "text": [
      "(100, 1, 6)\n"
     ]
    },
    {
     "data": {
      "image/png": "[encoded data removed]",
      "text/plain": [
       "<Figure size 640x480 with 1 Axes>"
      ]
     },
     "metadata": {},
     "output_type": "display_data"
    }
   ],
   "source": [
    "import ase\n",
    "from equistore import TensorMap, TensorBlock, Labels\n",
    "\n",
    "def get_dummy_structures(r_array):\n",
    "    dummy_structures = []\n",
    "    for r in r_array:\n",
    "        dummy_structures.append(\n",
    "            ase.Atoms('CH', positions=[(0, 0, 0), (0, 0, r)])\n",
    "        )\n",
    "    return dummy_structures \n",
    "\n",
    "# Create a fake list of dummy structures to test the radial functions generated from rascaline.\n",
    "\n",
    "r = np.linspace(0.1, a-0.001, 100)\n",
    "structures = get_dummy_structures(r)\n",
    "\n",
    "spherical_expansion_coefficients = calculator.compute(structures)\n",
    "\n",
    "block_C_0 = spherical_expansion_coefficients.block(species_center = 6, spherical_harmonics_l = 0, species_neighbor = 1)\n",
    "print(block_C_0.values.shape)\n",
    "\n",
    "block_C_0_0 = block_C_0.values[:, :, 0].flatten()\n",
    "spherical_harmonics_0 = 1.0/np.sqrt(4.0*np.pi)\n",
    "\n",
    "\n",
    "all_species = np.unique(spherical_expansion_coefficients.keys[\"species_center\"])\n",
    "all_neighbor_species = Labels(\n",
    "        names=[\"species_neighbor\"],\n",
    "        values=np.array(all_species, dtype=np.int32).reshape(-1, 1),\n",
    "    )\n",
    "spherical_expansion_coefficients.keys_to_properties(all_neighbor_species)\n",
    "\n",
    "plt.plot(r, block_C_0_0/spherical_harmonics_0, label=\"rascaline output\")  # rascaline BUG?\n",
    "plt.plot([0.0, a], [0.0, 0.0], \"black\")\n",
    "plt.plot(r, get_LE_function_python(n=0, l=0, r=r), \"--\", label=\"original function\")\n",
    "plt.xlim(0.0, a)\n",
    "plt.legend()\n",
    "plt.show()"
   ]
  },
  {
   "cell_type": "code",
   "execution_count": 21,
   "metadata": {},
   "outputs": [
    {
     "name": "stdout",
     "output_type": "stream",
     "text": [
      "??\n",
      "TensorMap with 28 blocks\n",
      "keys: ['spherical_harmonics_l' 'species_center']\n",
      "                  0                   1\n",
      "                  1                   1\n",
      "                  2                   1\n",
      "                  3                   1\n",
      "                  4                   1\n",
      "                  5                   1\n",
      "                  6                   1\n",
      "                  7                   1\n",
      "                  8                   1\n",
      "                  9                   1\n",
      "                 10                   1\n",
      "                 11                   1\n",
      "                 12                   1\n",
      "                 13                   1\n",
      "                  0                   6\n",
      "                  1                   6\n",
      "                  2                   6\n",
      "                  3                   6\n",
      "                  4                   6\n",
      "                  5                   6\n",
      "                  6                   6\n",
      "                  7                   6\n",
      "                  8                   6\n",
      "                  9                   6\n",
      "                 10                   6\n",
      "                 11                   6\n",
      "                 12                   6\n",
      "                 13                   6\n"
     ]
    }
   ],
   "source": [
    "import torch\n",
    "\n",
    "n_max_l = []\n",
    "for l in range(l_max+1):\n",
    "    n_max_l.append(np.where(E_nl[:, l] <= E_max)[0][-1]+1) \n",
    "\n",
    "def cut_to_LE(map: TensorMap, E_nl, E_max) -> TensorMap:\n",
    "    LE_blocks = []\n",
    "    for idx, block in map:\n",
    "        l = idx[0]\n",
    "        counter = 0\n",
    "        for n in block.properties[\"n\"]:\n",
    "            if E_nl[n, l] <= E_max: counter += 1\n",
    "        LE_values = torch.zeros((block.values.shape[0], block.values.shape[1], counter))\n",
    "        counter_LE = 0\n",
    "        counter_total = 0\n",
    "        labels_LE = [] \n",
    "        for n in block.properties[\"n\"]:\n",
    "            if E_nl[n, l] <= E_max: \n",
    "                LE_values[:, :, counter_LE] = torch.tensor(block.values[:, :, counter_total])\n",
    "                labels_LE.append([block.properties[\"species_neighbor\"][counter_total], n, l])\n",
    "                counter_LE += 1\n",
    "            counter_total += 1\n",
    "        LE_block = TensorBlock(\n",
    "            values=LE_values,\n",
    "            samples=block.samples,\n",
    "            components=block.components,\n",
    "            properties=Labels(\n",
    "                names = (\"a1\", \"n1\", \"l1\"),\n",
    "                values = np.array(labels_LE),\n",
    "            ),\n",
    "        )\n",
    "        LE_blocks.append(LE_block)\n",
    "    return TensorMap(\n",
    "            keys = Labels(\n",
    "                names = (\"lambda\", \"a_i\"),\n",
    "                values = map.keys.asarray(),\n",
    "            ),\n",
    "            blocks = LE_blocks\n",
    "        )\n",
    "\n",
    "spherical_LE = cut_to_LE(spherical_expansion_coefficients, E_nl, E_max)\n",
    "print(\"??\")\n",
    "\n",
    "print(spherical_LE)"
   ]
  },
  {
   "cell_type": "code",
   "execution_count": null,
   "metadata": {},
   "outputs": [],
   "source": []
  }
 ],
 "metadata": {
  "kernelspec": {
   "display_name": "Python 3.7.7 ('virtualenv': venv)",
   "language": "python",
   "name": "python3"
  },
  "language_info": {
   "codemirror_mode": {
    "name": "ipython",
    "version": 3
   },
   "file_extension": ".py",
   "mimetype": "text/x-python",
   "name": "python",
   "nbconvert_exporter": "python",
   "pygments_lexer": "ipython3",
   "version": "3.7.7"
  },
  "orig_nbformat": 4,
  "vscode": {
   "interpreter": {
    "hash": "144ec3b5cd37a648e305ae2c09b9516066242b1bc5e9f237ba5a8f13b411ab3c"
   }
  }
 },
 "nbformat": 4,
 "nbformat_minor": 2
}
